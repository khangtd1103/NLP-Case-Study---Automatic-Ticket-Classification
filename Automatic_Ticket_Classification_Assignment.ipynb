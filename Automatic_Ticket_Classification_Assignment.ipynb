{
 "cells": [
  {
   "cell_type": "markdown",
   "metadata": {},
   "source": [
    " ## Problem Statement\n",
    "\n",
    "\n",
    "\n",
    " You need to build a model that is able to classify customer complaints based on the products/services. By doing so, you can segregate these tickets into their relevant categories and, therefore, help in the quick resolution of the issue.\n",
    "\n",
    "\n",
    "\n",
    " You will be doing topic modelling on the <b>.json</b> data provided by the company. Since this data is not labelled, you need to apply NMF to analyse patterns and classify tickets into the following five clusters based on their products/services:\n",
    "\n",
    "\n",
    "\n",
    " * Credit card / Prepaid card\n",
    "\n",
    "\n",
    "\n",
    " * Bank account services\n",
    "\n",
    "\n",
    "\n",
    " * Theft/Dispute reporting\n",
    "\n",
    "\n",
    "\n",
    " * Mortgages/loans\n",
    "\n",
    "\n",
    "\n",
    " * Others\n",
    "\n",
    "\n",
    "\n",
    "\n",
    "\n",
    " With the help of topic modelling, you will be able to map each ticket onto its respective department/category. You can then use this data to train any supervised model such as logistic regression, decision tree or random forest. Using this trained model, you can classify any new customer complaint support ticket into its relevant department."
   ]
  },
  {
   "cell_type": "markdown",
   "metadata": {},
   "source": [
    " ## Pipelines that needs to be performed:\n",
    "\n",
    "\n",
    "\n",
    " You need to perform the following eight major tasks to complete the assignment:\n",
    "\n",
    "\n",
    "\n",
    " 1.  Data loading\n",
    "\n",
    "\n",
    "\n",
    " 2. Text preprocessing\n",
    "\n",
    "\n",
    "\n",
    " 3. Exploratory data analysis (EDA)\n",
    "\n",
    "\n",
    "\n",
    " 4. Feature extraction\n",
    "\n",
    "\n",
    "\n",
    " 5. Topic modelling\n",
    "\n",
    "\n",
    "\n",
    " 6. Model building using supervised learning\n",
    "\n",
    "\n",
    "\n",
    " 7. Model training and evaluation\n",
    "\n",
    "\n",
    "\n",
    " 8. Model inference"
   ]
  },
  {
   "cell_type": "markdown",
   "metadata": {},
   "source": [
    " ## Importing the necessary libraries"
   ]
  },
  {
   "cell_type": "code",
   "execution_count": null,
   "metadata": {},
   "outputs": [],
   "source": [
    "# %%\n",
    "import tensorflow as tf\n",
    "# Check if GPU is available\n",
    "if tf.test.gpu_device_name():\n",
    "    print('GPU found')\n",
    "else:\n",
    "    print(\"No GPU found\")\n"
   ]
  },
  {
   "cell_type": "code",
   "execution_count": null,
   "metadata": {},
   "outputs": [],
   "source": [
    "# %%\n",
    "import json \n",
    "import numpy as np\n",
    "import pandas as pd\n",
    "import re, nltk, spacy, string\n",
    "import en_core_web_sm\n",
    "nlp = en_core_web_sm.load()\n",
    "import seaborn as sns\n",
    "import matplotlib.pyplot as plt\n",
    "# %matplotlib inline\n",
    "\n",
    "from plotly.offline import plot\n",
    "import plotly.graph_objects as go\n",
    "import plotly.express as px\n",
    "\n",
    "from sklearn.feature_extraction.text import CountVectorizer, TfidfVectorizer\n",
    "from pprint import pprint\n",
    "\n",
    "import os\n",
    "\n"
   ]
  },
  {
   "cell_type": "markdown",
   "metadata": {},
   "source": [
    " ## Loading the data\n",
    "\n",
    "\n",
    "\n",
    " The data is in JSON format and we need to convert it to a dataframe."
   ]
  },
  {
   "cell_type": "code",
   "execution_count": null,
   "metadata": {},
   "outputs": [],
   "source": [
    "# %%\n",
    "# Opening JSON file \n",
    "f = open('./complaints-2021-05-14_08_16.json') # Write the path to your data file and load it \n",
    "\n",
    "# returns JSON object as  \n",
    "# a dictionary \n",
    "data = json.load(f)\n",
    "df=pd.json_normalize(data)\n",
    "\n"
   ]
  },
  {
   "cell_type": "markdown",
   "metadata": {},
   "source": [
    " ## Data preparation"
   ]
  },
  {
   "cell_type": "code",
   "execution_count": null,
   "metadata": {},
   "outputs": [],
   "source": [
    "# %%\n",
    "# Inspect the dataframe to understand the given data.\n",
    "display(df.head())\n",
    "display(df.info())\n",
    "display(df.describe(include='all'))\n"
   ]
  },
  {
   "cell_type": "code",
   "execution_count": null,
   "metadata": {},
   "outputs": [],
   "source": [
    "# %%\n",
    "#print the column names\n",
    "df.columns\n",
    "\n"
   ]
  },
  {
   "cell_type": "code",
   "execution_count": null,
   "metadata": {},
   "outputs": [],
   "source": [
    "# %%\n",
    "#Assign new column names\n",
    "df.columns = df.columns.str.lstrip('_')\n",
    "df.columns = df.columns.str.replace('source.', '')\n",
    "df.columns\n",
    "\n"
   ]
  },
  {
   "cell_type": "code",
   "execution_count": null,
   "metadata": {},
   "outputs": [],
   "source": [
    "# %%\n",
    "# Assign nan in place of blanks in the complaints column\n",
    "df[df['complaint_what_happened'] ==''] = np.nan\n",
    "\n"
   ]
  },
  {
   "cell_type": "code",
   "execution_count": null,
   "metadata": {},
   "outputs": [],
   "source": [
    "# %%\n",
    "# df shape before dropna\n",
    "print('df.shape before dropna =',df.shape)\n",
    "#Remove all rows where complaints column is nan\n",
    "df.dropna(subset='complaint_what_happened', inplace=True)\n",
    "# df shape after dropna\n",
    "print('df.shape after dropna =',df.shape)\n",
    "\n"
   ]
  },
  {
   "cell_type": "markdown",
   "metadata": {},
   "source": [
    " ## Prepare the text for topic modeling\n",
    "\n",
    "\n",
    "\n",
    " Once you have removed all the blank complaints, you need to:\n",
    "\n",
    "\n",
    "\n",
    " * Make the text lowercase\n",
    "\n",
    " * Remove text in square brackets\n",
    "\n",
    " * Remove punctuation\n",
    "\n",
    " * Remove words containing numbers\n",
    "\n",
    "\n",
    "\n",
    "\n",
    "\n",
    " Once you have done these cleaning operations you need to perform the following:\n",
    "\n",
    " * Lemmatize the texts\n",
    "\n",
    " * Extract the POS tags of the lemmatized text and remove all the words which have tags other than NN[tag == \"NN\"].\n",
    "\n"
   ]
  },
  {
   "cell_type": "markdown",
   "metadata": {},
   "source": [
    " #### Convert data types"
   ]
  },
  {
   "cell_type": "code",
   "execution_count": null,
   "metadata": {},
   "outputs": [],
   "source": [
    "# %%\n",
    "df = df.convert_dtypes()\n",
    "df.info()\n"
   ]
  },
  {
   "cell_type": "markdown",
   "metadata": {},
   "source": [
    " #### Make the text lowercase"
   ]
  },
  {
   "cell_type": "code",
   "execution_count": null,
   "metadata": {},
   "outputs": [],
   "source": [
    "# %%\n",
    "# Write your function here to clean the text and remove all the unnecessary elements.\n",
    "df['clean_complaints'] = df['complaint_what_happened'].str.lower()\n",
    "\n"
   ]
  },
  {
   "cell_type": "markdown",
   "metadata": {},
   "source": [
    " #### Create function to extract regex"
   ]
  },
  {
   "cell_type": "code",
   "execution_count": null,
   "metadata": {},
   "outputs": [],
   "source": [
    "# %%\n",
    "def extract_regex(df, new_df, regexes):\n",
    "    if not isinstance(regexes, list):\n",
    "        regexes = [regexes]\n",
    "    new_df = pd.DataFrame()\n",
    "    for reg in regexes:\n",
    "        if new_df.empty:\n",
    "            new_df = pd.DataFrame(df[df['clean_complaints'].str.contains(reg, regex=True)]['clean_complaints'])            \n",
    "        else:\n",
    "            new_df = pd.concat([new_df, pd.DataFrame(df[df['clean_complaints'].str.contains(reg, regex=True)]['clean_complaints'])])\n",
    "        \n",
    "    # Apply the regular expressions to the DataFrame\n",
    "    new_df['extracted'] = new_df['clean_complaints'].apply(lambda x: [match for regex in regexes for match in re.findall(regex, x)])\n",
    "    # Display the 'extracted' column\n",
    "    return pd.DataFrame((new_df['extracted']))\n",
    "\n"
   ]
  },
  {
   "cell_type": "markdown",
   "metadata": {},
   "source": [
    " #### Remove text in square brackets"
   ]
  },
  {
   "cell_type": "code",
   "execution_count": null,
   "metadata": {},
   "outputs": [],
   "source": [
    "# %%\n",
    "df_square_brackets = pd.DataFrame()\n",
    "regex = r'(\\[.*?\\])'\n",
    "extract_regex(df, df_square_brackets, regex)\n"
   ]
  },
  {
   "cell_type": "code",
   "execution_count": null,
   "metadata": {},
   "outputs": [],
   "source": [
    "# %%\n",
    "df['clean_complaints'] = df['clean_complaints'].str.replace(regex, '', regex = True)\n"
   ]
  },
  {
   "cell_type": "code",
   "execution_count": null,
   "metadata": {},
   "outputs": [],
   "source": [
    "# %%\n",
    "extract_regex(df, df_square_brackets, regex)\n"
   ]
  },
  {
   "cell_type": "markdown",
   "metadata": {},
   "source": [
    " #### Remove punctuation"
   ]
  },
  {
   "cell_type": "code",
   "execution_count": null,
   "metadata": {},
   "outputs": [],
   "source": [
    "# %%\n",
    "df_punctuation = pd.DataFrame()\n",
    "regex = f'[{string.punctuation}]'\n",
    "extract_regex(df, df_punctuation, regex)\n"
   ]
  },
  {
   "cell_type": "code",
   "execution_count": null,
   "metadata": {},
   "outputs": [],
   "source": [
    "# %%\n",
    "# Remove punctuation from 'clean_complaints'\n",
    "df['clean_complaints'] = df['clean_complaints'].str.replace(regex, '', regex=True)\n"
   ]
  },
  {
   "cell_type": "code",
   "execution_count": null,
   "metadata": {},
   "outputs": [],
   "source": [
    "# %%\n",
    "extract_regex(df, df_punctuation, regex)\n"
   ]
  },
  {
   "cell_type": "markdown",
   "metadata": {},
   "source": [
    " #### Remove words containing numbers"
   ]
  },
  {
   "cell_type": "markdown",
   "metadata": {},
   "source": [
    " Filter words containing numbers anywhere"
   ]
  },
  {
   "cell_type": "code",
   "execution_count": null,
   "metadata": {},
   "outputs": [],
   "source": [
    "# %%\n",
    "# Create a new DataFrame that contains rows that have square brackets and its text\n",
    "df_word_num = pd.DataFrame()\n",
    "\n",
    "# Define the regular expressions\n",
    "regex = [r'\\b[A-Za-z]+\\d+\\w*\\b', r'\\b\\d+[A-Za-z]+\\w*\\b']\n",
    "\n",
    "extract_regex(df, df_word_num, regex).head(30)\n"
   ]
  },
  {
   "cell_type": "markdown",
   "metadata": {},
   "source": [
    " Filter words containing numbers in between"
   ]
  },
  {
   "cell_type": "code",
   "execution_count": null,
   "metadata": {},
   "outputs": [],
   "source": [
    "# %%\n",
    "# Create a new DataFrame that contains rows that have square brackets and its text\n",
    "df_word_num = pd.DataFrame()\n",
    "\n",
    "# Define the regular expressions\n",
    "regex = r'\\b[A-Za-z]+\\d+[A-Za-z]+\\b'\n",
    "\n",
    "extract_regex(df, df_word_num, regex).head(10)\n"
   ]
  },
  {
   "cell_type": "markdown",
   "metadata": {},
   "source": [
    " Remove words containing numbers in between"
   ]
  },
  {
   "cell_type": "code",
   "execution_count": null,
   "metadata": {},
   "outputs": [],
   "source": [
    "# %%\n",
    "# Remove punctuation from 'clean_complaints'\n",
    "df['clean_complaints'] = df['clean_complaints'].str.replace(regex, '', regex=True)\n"
   ]
  },
  {
   "cell_type": "code",
   "execution_count": null,
   "metadata": {},
   "outputs": [],
   "source": [
    "# %%\n",
    "extract_regex(df, df_word_num, regex).head(10)\n"
   ]
  },
  {
   "cell_type": "markdown",
   "metadata": {},
   "source": [
    " #### Clean space"
   ]
  },
  {
   "cell_type": "code",
   "execution_count": null,
   "metadata": {},
   "outputs": [],
   "source": [
    "# %%\n",
    "print(df['clean_complaints'][1])\n"
   ]
  },
  {
   "cell_type": "code",
   "execution_count": null,
   "metadata": {},
   "outputs": [],
   "source": [
    "# %%\n",
    "# Removing leading/trailing whitespace and empty sentences\n",
    "df['clean_complaints'] = df['clean_complaints'].apply(lambda x: '\\n'.join(sent.strip() for sent in x.split('\\n') if sent.strip() != ''))\n"
   ]
  },
  {
   "cell_type": "code",
   "execution_count": null,
   "metadata": {},
   "outputs": [],
   "source": [
    "# %%\n",
    "print(df['clean_complaints'][1])\n"
   ]
  },
  {
   "cell_type": "code",
   "execution_count": null,
   "metadata": {},
   "outputs": [],
   "source": [
    "# %%\n",
    "# Removing extra spaces between words.\n",
    "df['clean_complaints'] = df['clean_complaints'].apply(lambda x: '\\n'.join(' '.join(word.strip() for word in sent.split() if word.strip()!= '') for sent in x.split('\\n') if sent.strip()!= ''))\n"
   ]
  },
  {
   "cell_type": "code",
   "execution_count": null,
   "metadata": {},
   "outputs": [],
   "source": [
    "# %%\n",
    "print(df['clean_complaints'][1])\n"
   ]
  },
  {
   "cell_type": "markdown",
   "metadata": {},
   "source": [
    " #### Drop empty rows"
   ]
  },
  {
   "cell_type": "code",
   "execution_count": null,
   "metadata": {},
   "outputs": [],
   "source": [
    "# %%\n",
    "# df shape before dropna\n",
    "print('df.shape before dropna =',df.shape)\n",
    "#Remove all rows where complaints column is nan\n",
    "df.dropna(subset='clean_complaints', inplace=True)\n",
    "# Drop rows where column 'clean_complaints' is equal to ''\n",
    "df = df[df['clean_complaints'] != '']\n",
    "# df shape after dropna\n",
    "print('df.shape after dropna =',df.shape)\n",
    "# reset index\n",
    "df.reset_index(drop=True, inplace=True)\n"
   ]
  },
  {
   "cell_type": "markdown",
   "metadata": {},
   "source": [
    " #### Drop duplicates"
   ]
  },
  {
   "cell_type": "code",
   "execution_count": null,
   "metadata": {},
   "outputs": [],
   "source": [
    "# %%\n",
    "# df shape before drop_duplicates\n",
    "print('df.shape before drop_duplicates =',df.shape)\n",
    "# Drop duplicate rows based on column 'clean_complaints'\n",
    "df = df.drop_duplicates(subset='clean_complaints')\n",
    "# df shape after drop_duplicates\n",
    "print('df.shape after drop_duplicates =',df.shape)\n"
   ]
  },
  {
   "cell_type": "code",
   "execution_count": null,
   "metadata": {},
   "outputs": [],
   "source": [
    "# %%\n",
    "if os.path.isfile('df.csv'):\n",
    "  # load df_clean\n",
    "  df = pd.read_csv('df.csv')\n",
    "else:\n",
    "    df.to_csv('df.csv', index=False)\n",
    "\n"
   ]
  },
  {
   "cell_type": "markdown",
   "metadata": {},
   "source": [
    " #### Lemmatize the texts"
   ]
  },
  {
   "cell_type": "code",
   "execution_count": null,
   "metadata": {},
   "outputs": [],
   "source": [
    "# %%\n",
    "#Write your function to Lemmatize the texts\n",
    "def lemmatize(sent):        \n",
    "    spacy.prefer_gpu()\n",
    "    doc = nlp(sent)\n",
    "    return ' '.join([token.lemma_ for token in doc])\n",
    "\n"
   ]
  },
  {
   "cell_type": "code",
   "execution_count": null,
   "metadata": {},
   "outputs": [],
   "source": [
    "# %%\n",
    "if os.path.isfile('df_clean.csv'):\n",
    "    # load df_clean\n",
    "    df_clean = pd.read_csv('df_clean.csv')\n",
    "else:\n",
    "    #tag remote collab\n",
    "    df = pd.read_csv('df.csv')\n",
    "\n",
    "    #Create a dataframe('df_clean') that will have only the complaints and the lemmatized complaints \n",
    "    df_clean = pd.DataFrame()\n",
    "\n",
    "    # initialize 'complaints' column\n",
    "    df_clean['complaints'] = df['clean_complaints']\n",
    "\n",
    "    # process 'complaints_lemmatized' column\n",
    "    df_clean['complaints_lemmatized'] = pd.DataFrame(df_clean['complaints'].apply(lambda x: '\\n'.join(lemmatize(sent) for sent in x.split('\\n'))))\n",
    "\n",
    "    # Store df_clean for later use\n",
    "    df_clean.to_csv('df_clean.csv', index=False)\n"
   ]
  },
  {
   "cell_type": "code",
   "execution_count": null,
   "metadata": {},
   "outputs": [],
   "source": [
    "# %%\n",
    "print(df_clean['complaints_lemmatized'][0])\n"
   ]
  },
  {
   "cell_type": "code",
   "execution_count": null,
   "metadata": {},
   "outputs": [],
   "source": [
    "# %%\n",
    "df_clean\n",
    "\n"
   ]
  },
  {
   "cell_type": "code",
   "execution_count": null,
   "metadata": {},
   "outputs": [],
   "source": [
    "# %%\n",
    "def pos_tag(text):\n",
    "    # write your code here\n",
    "    tokens = nltk.word_tokenize(text)\n",
    "    pos_tags = nltk.pos_tag(tokens)\n",
    "    #this column should contain lemmatized text with all the words removed which have tags other than NN[tag == \"NN\"].\n",
    "    return lemmatize(' '.join([word for word, tag in pos_tags if tag.startswith('NN')]))\n",
    "\n"
   ]
  },
  {
   "cell_type": "code",
   "execution_count": null,
   "metadata": {},
   "outputs": [],
   "source": [
    "# %%\n",
    "#Write your function to extract the POS tags \n",
    "\n",
    "if os.path.isfile('df_clean_v1.csv'):\n",
    "  #tag remote collab\n",
    "  df = pd.read_csv('df.csv')\n",
    "  # load df_clean\n",
    "  df_clean = pd.read_csv('df_clean_v1.csv')\n",
    "else:\n",
    "  #tag remote collab\n",
    "  df = pd.read_csv('df.csv')\n",
    "  #tag remote collab\n",
    "  df_clean = pd.read_csv('df_clean.csv')\n",
    "\n",
    "  nltk.download('punkt')\n",
    "  # Make sure you have the necessary NLTK data downloaded\n",
    "  nltk.download('averaged_perceptron_tagger')\n",
    "\n",
    "  df_clean['complaint_POS_removed'] = pd.DataFrame(df_clean['complaints'].apply(lambda x: '\\n'.join(pos_tag(sent) for sent in x.split('\\n'))))\n",
    "  # Store df_clean for later use\n",
    "  df_clean.to_csv('df_clean_v1.csv', index=False)\n",
    "\n"
   ]
  },
  {
   "cell_type": "code",
   "execution_count": null,
   "metadata": {},
   "outputs": [],
   "source": [
    "# %%\n",
    "#The clean dataframe should now contain the raw complaint, lemmatized complaint and the complaint after removing POS tags.\n",
    "df_clean\n"
   ]
  },
  {
   "cell_type": "markdown",
   "metadata": {},
   "source": [
    " ## The personal details of customer has been masked in the dataset with xxxx. Let's remove the masked text as this will be of no use for our analysis"
   ]
  },
  {
   "cell_type": "code",
   "execution_count": null,
   "metadata": {},
   "outputs": [],
   "source": [
    "# %%\n",
    "df_clean['complaint_POS_removed'] = df_clean['complaint_POS_removed'].str.replace(r'xxxx*','', regex =True)\n",
    "# Replace NaN values with an empty string\n",
    "df_clean['complaint_POS_removed'] = df_clean['complaint_POS_removed'].fillna('')\n"
   ]
  },
  {
   "cell_type": "code",
   "execution_count": null,
   "metadata": {},
   "outputs": [],
   "source": [
    "# %%\n",
    "# Removing leading/trailing whitespace and empty sentences\n",
    "df_clean['complaint_POS_removed'] = df_clean['complaint_POS_removed'].apply(lambda x: '\\n'.join(sent.strip() for sent in x.split('\\n') if sent.strip() != ''))\n",
    "# Removing extra spaces between words.\n",
    "df_clean['complaint_POS_removed'] = df_clean['complaint_POS_removed'].apply(lambda x: '\\n'.join(' '.join(word.strip() for word in sent.split() if word.strip()!= '') for sent in x.split('\\n') if sent.strip()!= ''))\n"
   ]
  },
  {
   "cell_type": "code",
   "execution_count": null,
   "metadata": {},
   "outputs": [],
   "source": [
    "# %%\n",
    "#All masked texts has been removed\n",
    "df_clean\n"
   ]
  },
  {
   "cell_type": "markdown",
   "metadata": {},
   "source": [
    " ## Exploratory data analysis to get familiar with the data.\n",
    "\n",
    "\n",
    "\n",
    " Write the code in this task to perform the following:\n",
    "\n",
    "\n",
    "\n",
    " *   Visualise the data according to the 'Complaint' character length\n",
    "\n",
    " *   Using a word cloud find the top 40 words by frequency among all the articles after processing the text\n",
    "\n",
    " *   Find the top unigrams,bigrams and trigrams by frequency among all the complaints after processing the text. ‘\n",
    "\n",
    "\n",
    "\n",
    "\n",
    "\n"
   ]
  },
  {
   "cell_type": "code",
   "execution_count": null,
   "metadata": {},
   "outputs": [],
   "source": [
    "# %%\n",
    "# Write your code here to visualise the data according to the 'Complaint' character length\n",
    "\n",
    "# Create a new column 'complaint_length' that contains the length of each complaint\n",
    "complaint_length = df_clean['complaints_lemmatized'].apply(len)\n",
    "\n",
    "# Set the figure size\n",
    "plt.figure(figsize=(13, 5))\n",
    "\n",
    "# Plot a histogram of the complaint lengths\n",
    "sns.histplot(complaint_length, edgecolor='white', bins=50, alpha=0.55, kde=True)\n",
    "plt.xlabel('Complaint Length')\n",
    "plt.ylabel('Frequency')\n",
    "plt.title('Distribution of Complaint Lengths')\n",
    "plt.show()\n"
   ]
  },
  {
   "cell_type": "markdown",
   "metadata": {},
   "source": [
    " Distribution of complaint lengths is strongly right-skewed, indicating that most complaints are short, but there are a few very long ones that extend the range significantly."
   ]
  },
  {
   "cell_type": "markdown",
   "metadata": {},
   "source": [
    " #### Find the top 40 words by frequency among all the articles after processing the text."
   ]
  },
  {
   "cell_type": "code",
   "execution_count": null,
   "metadata": {},
   "outputs": [],
   "source": [
    "# %%\n",
    "# Get the list of English stop words\n",
    "stop_words = nlp.Defaults.stop_words\n",
    "\n",
    "# Create a new column with stop words removed\n",
    "df_clean['complaint_POS_removed'] = df_clean['complaint_POS_removed'].apply(lambda x: ' '.join(word for word in x.split() if word not in stop_words))\n",
    "# Replace NaN values with an empty string\n",
    "df_clean['complaint_POS_removed'] = df_clean['complaint_POS_removed'].fillna('')\n",
    "\n"
   ]
  },
  {
   "cell_type": "code",
   "execution_count": null,
   "metadata": {},
   "outputs": [],
   "source": [
    "# %%\n",
    "#Using a word cloud find the top 40 words by frequency among all the articles after processing the text\n",
    "\n",
    "from wordcloud import WordCloud\n",
    "# Combine all the complaints into a single string\n",
    "all_complaints = ' '.join(df_clean['complaint_POS_removed'])\n",
    "\n",
    "# Create a WordCloud object\n",
    "wordcloud = WordCloud(width=800, height=400, max_words=40).generate(all_complaints)\n",
    "\n",
    "# Display the word cloud\n",
    "plt.figure(figsize=(10, 5))\n",
    "plt.imshow(wordcloud, interpolation='bilinear')\n",
    "plt.axis('off')\n",
    "plt.show()\n",
    "\n"
   ]
  },
  {
   "cell_type": "code",
   "execution_count": null,
   "metadata": {},
   "outputs": [],
   "source": [
    "# %%\n",
    "#Removing -PRON- from the text corpus\n",
    "# df_clean['Complaint_clean'] = df_clean['complaint_POS_removed'].str.replace('-PRON-', '')\n",
    "if os.path.isfile('df_clean_v2.csv'):\n",
    "  #tag remote collab\n",
    "  df = pd.read_csv('df.csv')\n",
    "  # load df_clean\n",
    "  df_clean = pd.read_csv('df_clean_v2.csv')\n",
    "else:\n",
    "    #tag remote collab\n",
    "    df = pd.read_csv('df.csv')\n",
    "    # Define a function to replace a token\n",
    "    def remove_PRON(sent):\n",
    "        spacy.prefer_gpu()\n",
    "        doc = nlp(sent)\n",
    "        return ' '.join([token.text for token in doc if token.pos_ !='PRON'])\n",
    "\n",
    "    # Apply the function to the 'complaint_POS_removed' column\n",
    "    df_clean['Complaint_clean'] = df_clean['complaint_POS_removed'].apply(remove_PRON)\n",
    "    # Replace NaN values with an empty string\n",
    "    df_clean['Complaint_clean'] = df_clean['Complaint_clean'].fillna('')\n",
    "\n",
    "    df_clean.to_csv('df_clean_v2.csv', index=False)\n",
    "\n"
   ]
  },
  {
   "cell_type": "markdown",
   "metadata": {},
   "source": [
    " #### Find the top unigrams,bigrams and trigrams by frequency among all the complaints after processing the text."
   ]
  },
  {
   "cell_type": "markdown",
   "metadata": {},
   "source": [
    " - __Unigram__ means taking only one word at a time.\n",
    "\n",
    " - __Bigram__ means taking two words at a time.\n",
    "\n",
    " - __Trigram__ means taking three words at a time.\n",
    "\n",
    "\n",
    "\n",
    " Source: `https://www.analyticsvidhya.com/blog/2021/09/what-are-n-grams-and-how-to-implement-them-in-python/`"
   ]
  },
  {
   "cell_type": "code",
   "execution_count": null,
   "metadata": {},
   "outputs": [],
   "source": [
    "# %%\n",
    "#tag delete\n",
    "# Replace NaN values with an empty string\n",
    "df_clean['Complaint_clean'] = df_clean['Complaint_clean'].fillna('')\n"
   ]
  },
  {
   "cell_type": "code",
   "execution_count": null,
   "metadata": {},
   "outputs": [],
   "source": [
    "# %%\n",
    "#Write your code here to find the top 30 unigram frequency among the complaints in the cleaned dataframe(df_clean). \n",
    "from nltk import ngrams, FreqDist\n",
    "\n",
    "# Replace NaN values with an empty string\n",
    "df_clean['Complaint_clean'] = df_clean['Complaint_clean'].fillna('')\n",
    "\n",
    "# Join all the complaints into a single string\n",
    "all_words = ' '.join(df_clean['Complaint_clean']).split()\n",
    "\n",
    "unigram_freq = FreqDist(all_words)\n",
    "\n",
    "# Create a DataFrame from the result of word_freq.most_common(30)\n",
    "df_unigram_freq = pd.DataFrame(unigram_freq.most_common(30), columns=['Unigram', 'Frequency'])\n",
    "\n",
    "display (df_unigram_freq)\n"
   ]
  },
  {
   "cell_type": "code",
   "execution_count": null,
   "metadata": {},
   "outputs": [],
   "source": [
    "# %%\n",
    "#Print the top 10 words in the unigram frequency\n",
    "display(df_unigram_freq.head(10))\n"
   ]
  },
  {
   "cell_type": "code",
   "execution_count": null,
   "metadata": {},
   "outputs": [],
   "source": [
    "# %%\n",
    "#Write your code here to find the top 30 bigram frequency among the complaints in the cleaned datafram(df_clean). \n",
    "\n",
    "# Generate bigrams\n",
    "bigrams = ngrams(all_words, 2)\n",
    "\n",
    "bigram_freq = FreqDist(bigrams)\n",
    "\n",
    "# Create a DataFrame from the result of word_freq.most_common(30)\n",
    "df_bigram_freq = pd.DataFrame(bigram_freq.most_common(30), columns=['Bigram', 'Frequency'])\n",
    "\n",
    "display (df_bigram_freq)\n",
    "\n"
   ]
  },
  {
   "cell_type": "code",
   "execution_count": null,
   "metadata": {},
   "outputs": [],
   "source": [
    "# %%\n",
    "#Print the top 10 words in the bigram frequency\n",
    "display(df_bigram_freq.head(10))\n"
   ]
  },
  {
   "cell_type": "code",
   "execution_count": null,
   "metadata": {},
   "outputs": [],
   "source": [
    "# %%\n",
    "#Write your code here to find the top 30 trigram frequency among the complaints in the cleaned datafram(df_clean). \n",
    "\n",
    "# Generate trigrams\n",
    "trigrams = ngrams(all_words, 3)\n",
    "\n",
    "trigram_freq = FreqDist(trigrams)\n",
    "\n",
    "# Create a DataFrame from the result of word_freq.most_common(30)\n",
    "df_trigram_freq = pd.DataFrame(trigram_freq.most_common(30), columns=['Trigram', 'Frequency'])\n",
    "\n",
    "display (df_trigram_freq)\n",
    "\n"
   ]
  },
  {
   "cell_type": "code",
   "execution_count": null,
   "metadata": {},
   "outputs": [],
   "source": [
    "# %%\n",
    "#Print the top 10 words in the trigram frequency\n",
    "display(df_trigram_freq.head(10))\n"
   ]
  },
  {
   "cell_type": "markdown",
   "metadata": {},
   "source": [
    " ## Feature Extraction\n",
    "\n",
    " Convert the raw texts to a matrix of TF-IDF features\n",
    "\n",
    "\n",
    "\n",
    " **max_df** is used for removing terms that appear too frequently, also known as \"corpus-specific stop words\"\n",
    "\n",
    " max_df = 0.95 means \"ignore terms that appear in more than 95% of the complaints\"\n",
    "\n",
    "\n",
    "\n",
    " **min_df** is used for removing terms that appear too infrequently\n",
    "\n",
    " min_df = 2 means \"ignore terms that appear in less than 2 complaints\""
   ]
  },
  {
   "cell_type": "code",
   "execution_count": null,
   "metadata": {},
   "outputs": [],
   "source": [
    "# %%\n",
    "#Write your code here to initialise the TfidfVectorizer \n",
    "tfidf = TfidfVectorizer(max_df = 0.95, min_df = 2)\n"
   ]
  },
  {
   "cell_type": "markdown",
   "metadata": {},
   "source": [
    " #### Create a document term matrix using fit_transform\n",
    "\n",
    "\n",
    "\n",
    " The contents of a document term matrix are tuples of (complaint_id,token_id) tf-idf score:\n",
    "\n",
    " The tuples that are not there have a tf-idf score of 0"
   ]
  },
  {
   "cell_type": "code",
   "execution_count": null,
   "metadata": {},
   "outputs": [],
   "source": [
    "# %%\n",
    "#Write your code here to create the Document Term Matrix by transforming the complaints column present in df_clean.\n",
    "dtm = tfidf.fit_transform(df_clean['Complaint_clean']) \n",
    "\n"
   ]
  },
  {
   "cell_type": "code",
   "execution_count": null,
   "metadata": {},
   "outputs": [],
   "source": [
    "# %%\n",
    "dtm.shape\n"
   ]
  },
  {
   "cell_type": "markdown",
   "metadata": {},
   "source": [
    " ## Topic Modelling using NMF\n",
    "\n",
    "\n",
    "\n",
    " Non-Negative Matrix Factorization (NMF) is an unsupervised technique so there are no labeling of topics that the model will be trained on. The way it works is that, NMF decomposes (or factorizes) high-dimensional vectors into a lower-dimensional representation. These lower-dimensional vectors are non-negative which also means their coefficients are non-negative.\n",
    "\n",
    "\n",
    "\n",
    " In this task you have to perform the following:\n",
    "\n",
    "\n",
    "\n",
    " * Find the best number of clusters\n",
    "\n",
    " * Apply the best number to create word clusters\n",
    "\n",
    " * Inspect & validate the correction of each cluster wrt the complaints\n",
    "\n",
    " * Correct the labels if needed\n",
    "\n",
    " * Map the clusters to topics/cluster names"
   ]
  },
  {
   "cell_type": "code",
   "execution_count": null,
   "metadata": {},
   "outputs": [],
   "source": [
    "# %%\n",
    "from sklearn.decomposition import NMF\n"
   ]
  },
  {
   "cell_type": "markdown",
   "metadata": {},
   "source": [
    " ## Manual Topic Modeling\n",
    "\n",
    " You need to do take the trial & error approach to find the best num of topics for your NMF model.\n",
    "\n",
    "\n",
    "\n",
    " The only parameter that is required is the number of components i.e. the number of topics we want. This is the most crucial step in the whole topic modeling process and will greatly affect how good your final topics are."
   ]
  },
  {
   "cell_type": "code",
   "execution_count": null,
   "metadata": {},
   "outputs": [],
   "source": [
    "# %%\n",
    "#Load your nmf_model with the n_components i.e 5\n",
    "num_topics = 5#write the value you want to test out\n",
    "\n",
    "#keep the random_state =40\n",
    "nmf_model = NMF(n_components=num_topics, random_state =40) #write your code here\n",
    "H = nmf_model.fit_transform(dtm)\n",
    "\n"
   ]
  },
  {
   "cell_type": "code",
   "execution_count": null,
   "metadata": {},
   "outputs": [],
   "source": [
    "# %%\n",
    "W = nmf_model.fit(dtm)\n",
    "H = nmf_model.components_\n",
    "len(tfidf.get_feature_names_out())\n"
   ]
  },
  {
   "cell_type": "code",
   "execution_count": null,
   "metadata": {},
   "outputs": [],
   "source": [
    "# %%\n",
    "#Print the Top15 words for each of the topics\n",
    "words = np.array(tfidf.get_feature_names_out())\n",
    "topic_words = pd.DataFrame(np.zeros((num_topics, 15)), index=[f'Topic {i + 1}' for i in range(num_topics)], columns=[f'Word {i + 1}' for i in range(15)]).astype(str)\n",
    "\n",
    "for i in range(num_topics):\n",
    "    ix = H[i].argsort()[::-1][:15]\n",
    "    topic_words.iloc[i] = words[ix]\n",
    "\n",
    "topic_words\n",
    "\n"
   ]
  },
  {
   "cell_type": "code",
   "execution_count": null,
   "metadata": {},
   "outputs": [],
   "source": [
    "# %%\n",
    "#Create the best topic for each complaint in terms of integer value 0,1,2,3 & 4\n",
    "\n",
    "\n"
   ]
  },
  {
   "cell_type": "code",
   "execution_count": null,
   "metadata": {},
   "outputs": [],
   "source": [
    "# %%\n",
    "#Assign the best topic to each of the cmplaints in Topic Column\n",
    "\n",
    "df_clean['Topic'] = #write your code to assign topics to each rows.\n"
   ]
  },
  {
   "cell_type": "code",
   "execution_count": null,
   "metadata": {},
   "outputs": [],
   "source": [
    "# %%\n",
    "df_clean.head()\n"
   ]
  },
  {
   "cell_type": "code",
   "execution_count": null,
   "metadata": {},
   "outputs": [],
   "source": [
    "# %%\n",
    "#Print the first 5 Complaint for each of the Topics\n",
    "df_clean=df_clean.groupby('Topic').head(5)\n",
    "df_clean.sort_values('Topic')\n"
   ]
  },
  {
   "cell_type": "markdown",
   "metadata": {},
   "source": [
    " #### After evaluating the mapping, if the topics assigned are correct then assign these names to the relevant topic:\n",
    "\n",
    " * Bank Account services\n",
    "\n",
    " * Credit card or prepaid card\n",
    "\n",
    " * Theft/Dispute Reporting\n",
    "\n",
    " * Mortgage/Loan\n",
    "\n",
    " * Others"
   ]
  },
  {
   "cell_type": "code",
   "execution_count": null,
   "metadata": {},
   "outputs": [],
   "source": [
    "# %%\n",
    "#Create the dictionary of Topic names and Topics\n",
    "\n",
    "Topic_names = {   }\n",
    "#Replace Topics with Topic Names\n",
    "df_clean['Topic'] = df_clean['Topic'].map(Topic_names)\n"
   ]
  },
  {
   "cell_type": "code",
   "execution_count": null,
   "metadata": {},
   "outputs": [],
   "source": [
    "# %%\n",
    "df_clean\n"
   ]
  },
  {
   "cell_type": "markdown",
   "metadata": {},
   "source": [
    " ## Supervised model to predict any new complaints to the relevant Topics.\n",
    "\n",
    "\n",
    "\n",
    " You have now build the model to create the topics for each complaints.Now in the below section you will use them to classify any new complaints.\n",
    "\n",
    "\n",
    "\n",
    " Since you will be using supervised learning technique we have to convert the topic names to numbers(numpy arrays only understand numbers)"
   ]
  },
  {
   "cell_type": "code",
   "execution_count": null,
   "metadata": {},
   "outputs": [],
   "source": [
    "# %%\n",
    "#Create the dictionary again of Topic names and Topics\n",
    "\n",
    "Topic_names = {   }\n",
    "#Replace Topics with Topic Names\n",
    "df_clean['Topic'] = df_clean['Topic'].map(Topic_names)\n"
   ]
  },
  {
   "cell_type": "code",
   "execution_count": null,
   "metadata": {},
   "outputs": [],
   "source": [
    "# %%\n",
    "df_clean\n"
   ]
  },
  {
   "cell_type": "code",
   "execution_count": null,
   "metadata": {},
   "outputs": [],
   "source": [
    "# %%\n",
    "#Keep the columns\"complaint_what_happened\" & \"Topic\" only in the new dataframe --> training_data\n",
    "training_data=\n"
   ]
  },
  {
   "cell_type": "code",
   "execution_count": null,
   "metadata": {},
   "outputs": [],
   "source": [
    "# %%\n",
    "training_data\n"
   ]
  },
  {
   "cell_type": "markdown",
   "metadata": {},
   "source": [
    " ####Apply the supervised models on the training data created. In this process, you have to do the following:\n",
    "\n",
    " * Create the vector counts using Count Vectoriser\n",
    "\n",
    " * Transform the word vecotr to tf-idf\n",
    "\n",
    " * Create the train & test data using the train_test_split on the tf-idf & topics\n",
    "\n"
   ]
  },
  {
   "cell_type": "code",
   "execution_count": null,
   "metadata": {},
   "outputs": [],
   "source": [
    "# %%\n",
    "\n",
    "#Write your code to get the Vector count\n",
    "\n",
    "\n",
    "#Write your code here to transform the word vector to tf-idf\n"
   ]
  },
  {
   "cell_type": "markdown",
   "metadata": {},
   "source": [
    " You have to try atleast 3 models on the train & test data from these options:\n",
    "\n",
    " * Logistic regression\n",
    "\n",
    " * Decision Tree\n",
    "\n",
    " * Random Forest\n",
    "\n",
    " * Naive Bayes (optional)\n",
    "\n",
    "\n",
    "\n",
    " **Using the required evaluation metrics judge the tried models and select the ones performing the best**"
   ]
  },
  {
   "cell_type": "code",
   "execution_count": null,
   "metadata": {},
   "outputs": [],
   "source": [
    "# %%\n",
    "# Write your code here to build any 3 models and evaluate them using the required metrics\n",
    "\n",
    "\n",
    "\n",
    "\n"
   ]
  },
  {
   "cell_type": "code",
   "execution_count": null,
   "metadata": {},
   "outputs": [],
   "source": [
    "# %%\n",
    "\n",
    "\n",
    "\n"
   ]
  }
 ],
 "metadata": {
  "language_info": {
   "codemirror_mode": {
    "name": "ipython",
    "version": 3
   },
   "file_extension": ".py",
   "mimetype": "text/x-python",
   "name": "python",
   "nbconvert_exporter": "python",
   "pygments_lexer": "ipython3",
   "version": 3
  }
 },
 "nbformat": 4,
 "nbformat_minor": 2
}
